{
 "cells": [
  {
   "cell_type": "markdown",
   "metadata": {},
   "source": [
    "## Import"
   ]
  },
  {
   "cell_type": "code",
   "execution_count": 1,
   "metadata": {},
   "outputs": [
    {
     "name": "stderr",
     "output_type": "stream",
     "text": [
      "/home/sanskriti/anaconda3/lib/python3.9/site-packages/scipy/__init__.py:146: UserWarning: A NumPy version >=1.16.5 and <1.23.0 is required for this version of SciPy (detected version 1.26.1\n",
      "  warnings.warn(f\"A NumPy version >={np_minversion} and <{np_maxversion}\"\n"
     ]
    }
   ],
   "source": [
    "import torch\n",
    "import torchvision\n",
    "from torchvision import transforms\n",
    "from torch.utils.data import DataLoader, Dataset\n",
    "import cv2\n",
    "import matplotlib.pyplot as plt\n",
    "\n",
    "from dataset.preprocess import Preprocess\n",
    "from dataset.distribution import *\n",
    "from global_.trainer import GlobalTrainer\n",
    "from global_.evaluator import GlobalEvaluator\n",
    "from client.trainer import ClientTrainer\n",
    "from client.evaluator import ClientEvaluator\n",
    "from models.models import model\n",
    "from configs.conf_loader import *"
   ]
  },
  {
   "cell_type": "markdown",
   "metadata": {},
   "source": [
    "## Prepare Dataset"
   ]
  },
  {
   "cell_type": "code",
   "execution_count": 2,
   "metadata": {},
   "outputs": [],
   "source": [
    "pre = Preprocess()\n",
    "pre.client_preprocess_train()\n",
    "pre.client_preprocess_test()\n",
    "pre.global_preprocess_test()"
   ]
  },
  {
   "cell_type": "markdown",
   "metadata": {},
   "source": [
    "## Global Model"
   ]
  },
  {
   "cell_type": "code",
   "execution_count": 3,
   "metadata": {},
   "outputs": [
    {
     "name": "stdout",
     "output_type": "stream",
     "text": [
      "CNN_MNIST(\n",
      "  (conv1): Conv2d(1, 32, kernel_size=(5, 5), stride=(1, 1))\n",
      "  (relu1): ReLU()\n",
      "  (maxpool1): MaxPool2d(kernel_size=2, stride=2, padding=0, dilation=1, ceil_mode=False)\n",
      "  (conv2): Conv2d(32, 64, kernel_size=(5, 5), stride=(1, 1))\n",
      "  (relu2): ReLU()\n",
      "  (maxpool2): MaxPool2d(kernel_size=2, stride=2, padding=0, dilation=1, ceil_mode=False)\n",
      "  (fc1): Linear(in_features=1024, out_features=512, bias=True)\n",
      "  (relu3): ReLU()\n",
      "  (fc2): Linear(in_features=512, out_features=10, bias=True)\n",
      "  (softmax): Softmax(dim=1)\n",
      ")\n"
     ]
    }
   ],
   "source": [
    "global_model = model\n",
    "print(global_model)"
   ]
  },
  {
   "cell_type": "markdown",
   "metadata": {},
   "source": [
    "## Train"
   ]
  },
  {
   "cell_type": "code",
   "execution_count": 4,
   "metadata": {},
   "outputs": [
    {
     "name": "stderr",
     "output_type": "stream",
     "text": [
      "global_training_epoch:   0%|          | 0/10 [00:00<?, ?it/s]"
     ]
    },
    {
     "name": "stderr",
     "output_type": "stream",
     "text": [
      "client [7]: 100%|██████████| 10/10 [00:00<00:00, 62.34it/s]\n",
      "client [2]: 100%|██████████| 10/10 [00:00<00:00, 82.08it/s]\n",
      "client [1]: 100%|██████████| 10/10 [00:00<00:00, 78.02it/s]\n",
      "client [7]: 100%|██████████| 10/10 [00:00<00:00, 82.11it/s] 2.32it/s]\n",
      "client [1]: 100%|██████████| 10/10 [00:00<00:00, 83.28it/s]\n",
      "client [5]: 100%|██████████| 10/10 [00:00<00:00, 63.74it/s]\n",
      "client [1]: 100%|██████████| 10/10 [00:00<00:00, 76.83it/s] 2.36it/s]\n",
      "client [4]: 100%|██████████| 10/10 [00:00<00:00, 87.45it/s]\n",
      "client [2]: 100%|██████████| 10/10 [00:00<00:00, 107.97it/s]\n",
      "client [0]: 100%|██████████| 10/10 [00:00<00:00, 76.17it/s] 2.54it/s]\n",
      "client [2]: 100%|██████████| 10/10 [00:00<00:00, 78.13it/s]\n",
      "client [3]: 100%|██████████| 10/10 [00:00<00:00, 76.03it/s]\n",
      "client [1]: 100%|██████████| 10/10 [00:00<00:00, 80.11it/s] 2.50it/s]\n",
      "client [5]: 100%|██████████| 10/10 [00:00<00:00, 75.64it/s]\n",
      "client [8]: 100%|██████████| 10/10 [00:00<00:00, 101.65it/s]\n",
      "client [4]: 100%|██████████| 10/10 [00:00<00:00, 75.46it/s] 2.56it/s]\n",
      "client [9]: 100%|██████████| 10/10 [00:00<00:00, 101.41it/s]\n",
      "client [1]: 100%|██████████| 10/10 [00:00<00:00, 100.51it/s]\n",
      "client [2]: 100%|██████████| 10/10 [00:00<00:00, 79.33it/s] 2.65it/s]\n",
      "client [6]: 100%|██████████| 10/10 [00:00<00:00, 74.67it/s]\n",
      "client [8]: 100%|██████████| 10/10 [00:00<00:00, 67.50it/s]\n",
      "client [0]: 100%|██████████| 10/10 [00:00<00:00, 76.52it/s] 2.54it/s]\n",
      "client [1]: 100%|██████████| 10/10 [00:00<00:00, 76.18it/s]\n",
      "client [9]: 100%|██████████| 10/10 [00:00<00:00, 75.26it/s]\n",
      "client [9]: 100%|██████████| 10/10 [00:00<00:00, 84.59it/s] 2.49it/s]\n",
      "client [1]: 100%|██████████| 10/10 [00:00<00:00, 96.78it/s]\n",
      "client [5]: 100%|██████████| 10/10 [00:00<00:00, 93.92it/s]\n",
      "client [4]: 100%|██████████| 10/10 [00:00<00:00, 78.90it/s] 2.60it/s]\n",
      "client [7]: 100%|██████████| 10/10 [00:00<00:00, 73.21it/s]\n",
      "client [0]: 100%|██████████| 10/10 [00:00<00:00, 73.06it/s]\n",
      "global_training_epoch: 100%|██████████| 10/10 [00:03<00:00,  2.53it/s]\n"
     ]
    }
   ],
   "source": [
    "global_trainer = GlobalTrainer(global_model, pre.client_train_sets, fed_learn_method=aggregator_method)\n",
    "global_trainer.train()"
   ]
  },
  {
   "cell_type": "code",
   "execution_count": 5,
   "metadata": {},
   "outputs": [],
   "source": [
    "# fig = plt.figure(figsize=(24, 10))\n",
    "# for i in range(num_clients):\n",
    "#     fig.add_subplot(2, int(num_clients/2), (i+1))\n",
    "#     X = global_trainer.client_trainer_set[i].loss_history\n",
    "#     Y = [i+1 for i in range(len(X))]\n",
    "#     plt.plot(Y, X)\n",
    "#     plt.title(f'client: {i}')\n",
    "#     plt.xlabel('epochs')\n",
    "#     plt.ylabel('loss')"
   ]
  },
  {
   "cell_type": "markdown",
   "metadata": {},
   "source": [
    "## Test"
   ]
  },
  {
   "cell_type": "code",
   "execution_count": 6,
   "metadata": {},
   "outputs": [],
   "source": [
    "client_evaluator_set = [ClientEvaluator(i, global_model, pre.client_test_sets[i]) for i in range(num_clients)]\n",
    "global_evaluator = GlobalEvaluator(global_model, pre.global_test)"
   ]
  },
  {
   "cell_type": "code",
   "execution_count": 7,
   "metadata": {},
   "outputs": [
    {
     "name": "stderr",
     "output_type": "stream",
     "text": [
      "client [0]: 100%|██████████| 32/32 [00:00<00:00, 127.37it/s]\n"
     ]
    },
    {
     "name": "stdout",
     "output_type": "stream",
     "text": [
      "<class 'torch.Tensor'> <class 'torch.Tensor'>\n"
     ]
    },
    {
     "name": "stderr",
     "output_type": "stream",
     "text": [
      "client [1]: 100%|██████████| 32/32 [00:00<00:00, 147.15it/s]\n"
     ]
    },
    {
     "name": "stdout",
     "output_type": "stream",
     "text": [
      "<class 'torch.Tensor'> <class 'torch.Tensor'>\n"
     ]
    },
    {
     "name": "stderr",
     "output_type": "stream",
     "text": [
      "client [2]: 100%|██████████| 32/32 [00:00<00:00, 163.47it/s]\n"
     ]
    },
    {
     "name": "stdout",
     "output_type": "stream",
     "text": [
      "<class 'torch.Tensor'> <class 'torch.Tensor'>\n"
     ]
    },
    {
     "name": "stderr",
     "output_type": "stream",
     "text": [
      "client [3]: 100%|██████████| 32/32 [00:00<00:00, 135.91it/s]\n"
     ]
    },
    {
     "name": "stdout",
     "output_type": "stream",
     "text": [
      "<class 'torch.Tensor'> <class 'torch.Tensor'>\n"
     ]
    },
    {
     "name": "stderr",
     "output_type": "stream",
     "text": [
      "client [4]: 100%|██████████| 32/32 [00:00<00:00, 118.76it/s]\n"
     ]
    },
    {
     "name": "stdout",
     "output_type": "stream",
     "text": [
      "<class 'torch.Tensor'> <class 'torch.Tensor'>\n"
     ]
    },
    {
     "name": "stderr",
     "output_type": "stream",
     "text": [
      "client [5]: 100%|██████████| 32/32 [00:00<00:00, 143.48it/s]\n"
     ]
    },
    {
     "name": "stdout",
     "output_type": "stream",
     "text": [
      "<class 'torch.Tensor'> <class 'torch.Tensor'>\n"
     ]
    },
    {
     "name": "stderr",
     "output_type": "stream",
     "text": [
      "client [6]: 100%|██████████| 32/32 [00:00<00:00, 150.04it/s]\n"
     ]
    },
    {
     "name": "stdout",
     "output_type": "stream",
     "text": [
      "<class 'torch.Tensor'> <class 'torch.Tensor'>\n"
     ]
    },
    {
     "name": "stderr",
     "output_type": "stream",
     "text": [
      "client [7]: 100%|██████████| 32/32 [00:00<00:00, 129.77it/s]\n"
     ]
    },
    {
     "name": "stdout",
     "output_type": "stream",
     "text": [
      "<class 'torch.Tensor'> <class 'torch.Tensor'>\n"
     ]
    },
    {
     "name": "stderr",
     "output_type": "stream",
     "text": [
      "client [8]: 100%|██████████| 32/32 [00:00<00:00, 137.45it/s]\n"
     ]
    },
    {
     "name": "stdout",
     "output_type": "stream",
     "text": [
      "<class 'torch.Tensor'> <class 'torch.Tensor'>\n"
     ]
    },
    {
     "name": "stderr",
     "output_type": "stream",
     "text": [
      "client [9]: 100%|██████████| 32/32 [00:00<00:00, 119.70it/s]"
     ]
    },
    {
     "name": "stdout",
     "output_type": "stream",
     "text": [
      "<class 'torch.Tensor'> <class 'torch.Tensor'>\n"
     ]
    },
    {
     "name": "stderr",
     "output_type": "stream",
     "text": [
      "\n"
     ]
    }
   ],
   "source": [
    "avg_client_acc = 0\n",
    "avg_client_loss = 0\n",
    "avg_client_conf_mat = torch.zeros([10, 10])  \n",
    "  \n",
    "for i in range(num_clients):\n",
    "    client_evaluator_set[i].test()\n",
    "    avg_client_acc += client_evaluator_set[i].accuracy\n",
    "    avg_client_loss += client_evaluator_set[i].loss\n",
    "    print(type(client_evaluator_set[i].conf_mat), type(avg_client_conf_mat))\n",
    "    avg_client_conf_mat = torch.add(avg_client_conf_mat, client_evaluator_set[i].conf_mat)\n",
    "    \n",
    "avg_client_acc /= num_clients\n",
    "avg_client_loss /= num_clients\n",
    "avg_client_conf_mat  = torch.div(avg_client_conf_mat, num_clients)\n",
    "    "
   ]
  },
  {
   "cell_type": "code",
   "execution_count": 8,
   "metadata": {},
   "outputs": [],
   "source": [
    "# fig = plt.figure(figsize=(24, 10))\n",
    "# for i in range(num_clients):\n",
    "#     fig.add_subplot(2, int(num_clients/2), (i+1))\n",
    "#     plt.imshow(client_evaluator_set[i].conf_mat, cmap='Blues')\n",
    "#     plt.title(f'client: {i}')"
   ]
  },
  {
   "cell_type": "code",
   "execution_count": 9,
   "metadata": {},
   "outputs": [
    {
     "name": "stderr",
     "output_type": "stream",
     "text": [
      "global_evaluation: 100%|██████████| 313/313 [00:02<00:00, 143.59it/s]\n"
     ]
    }
   ],
   "source": [
    "global_evaluator.test()"
   ]
  },
  {
   "cell_type": "code",
   "execution_count": 10,
   "metadata": {},
   "outputs": [
    {
     "data": {
      "text/plain": [
       "Text(0.5, 1.0, 'client average')"
      ]
     },
     "execution_count": 10,
     "metadata": {},
     "output_type": "execute_result"
    },
    {
     "data": {
      "image/png": "[encoded data removed]",
      "text/plain": [
       "<Figure size 600x200 with 2 Axes>"
      ]
     },
     "metadata": {},
     "output_type": "display_data"
    }
   ],
   "source": [
    "fig = plt.figure(figsize=(6, 2))\n",
    "fig.add_subplot(1, 2, 1)\n",
    "plt.imshow(global_evaluator.conf_mat, cmap='Blues')\n",
    "plt.title('global')\n",
    "fig.add_subplot(1, 2, 2)\n",
    "plt.imshow(avg_client_conf_mat, cmap='Blues')\n",
    "plt.title('client average')"
   ]
  },
  {
   "cell_type": "code",
   "execution_count": 11,
   "metadata": {},
   "outputs": [
    {
     "name": "stdout",
     "output_type": "stream",
     "text": [
      "Global Accuracy 0.911841054313099 \tClient avg Accuracy 0.91123046875\n",
      "Global Loss 1.3581706051935294 \tClient avg Loss 1.3625204777292548\n"
     ]
    }
   ],
   "source": [
    "print('Global Accuracy', global_evaluator.accuracy, '\\tClient avg Accuracy', avg_client_acc)\n",
    "print('Global Loss' , global_evaluator.loss, '\\tClient avg Loss', avg_client_loss)"
   ]
  }
 ],
 "metadata": {
  "kernelspec": {
   "display_name": "base",
   "language": "python",
   "name": "python3"
  },
  "language_info": {
   "codemirror_mode": {
    "name": "ipython",
    "version": 3
   },
   "file_extension": ".py",
   "mimetype": "text/x-python",
   "name": "python",
   "nbconvert_exporter": "python",
   "pygments_lexer": "ipython3",
   "version": "3.9.16"
  }
 },
 "nbformat": 4,
 "nbformat_minor": 2
}
